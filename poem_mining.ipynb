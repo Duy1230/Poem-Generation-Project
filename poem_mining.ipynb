{
 "cells": [
  {
   "cell_type": "code",
   "execution_count": 3,
   "metadata": {},
   "outputs": [],
   "source": [
    "import pandas as pd\n",
    "import os\n",
    "import requests\n",
    "import time\n",
    "import random\n",
    "import re\n",
    "\n",
    "from tqdm import tqdm\n",
    "from selenium import webdriver\n",
    "from selenium.webdriver.chrome.service import Service\n",
    "from selenium.webdriver.common.by import By\n",
    "from selenium.webdriver.support.ui import WebDriverWait\n",
    "from selenium.webdriver.support import expected_conditions as EC"
   ]
  },
  {
   "cell_type": "code",
   "execution_count": 2,
   "metadata": {},
   "outputs": [],
   "source": [
    "def extract_poem_links(driver, page_idx):\n",
    "    main_url = f\"https://www.thivien.net/searchpoem.php?PoemType=16&ViewType=1&Country=2&Age[]=3&Page={page_idx}\"\n",
    "    driver.get(main_url)\n",
    "    time.sleep(random.uniform(3, 5))\n",
    "\n",
    "    content_tags_xpath = '//*[@class=\"page-content container\"]//div[@class=\"page-content-main\"]//div[@class=\"list-item\"]'\n",
    "    content_tags = driver.find_elements(By.XPATH, content_tags_xpath)\n",
    "    poem_links = []\n",
    "    for tag in content_tags:\n",
    "        try:\n",
    "            link_element = tag.find_element(By.XPATH, './/h4[@class=\"list-item-header\"]/a')\n",
    "            poem_title = link_element.text\n",
    "            poem_url = link_element.get_attribute(\"href\")\n",
    "            poem_links.append({\"title\": poem_title, \"url\": poem_url})\n",
    "        except Exception as e:\n",
    "            print(f\"Error extracting link: {e}\")\n",
    "            continue\n",
    "    return poem_links"
   ]
  },
  {
   "cell_type": "code",
   "execution_count": 4,
   "metadata": {},
   "outputs": [],
   "source": [
    "def clean_poem_html(html):\n",
    "    html = re.sub(r\"<img.*?>\", \"\", html, flags=re.IGNORECASE)\n",
    "    html = re.sub(r\"<i>.*?</i>\", \"\", html, flags=re.IGNORECASE | re.DOTALL)\n",
    "    html = re.sub(r\"<b>(.*?)</b>(?!\\s*(?:<br\\s*/?>\\s*){2,})\", r\"\\1\", html, flags=re.IGNORECASE)\n",
    "    html = re.sub(r\"<br\\s*/?>\", \"\\n\", html, flags=re.IGNORECASE)\n",
    "    html = re.sub(r\"</?p>\", \"\", html, flags=re.IGNORECASE)\n",
    "    return html.strip()"
   ]
  },
  {
   "cell_type": "code",
   "execution_count": 5,
   "metadata": {},
   "outputs": [],
   "source": [
    "def process_poem_content(html, poem_src, poem_url, default_title=\"\"):\n",
    "    cleaned = clean_poem_html(html)\n",
    "\n",
    "    pattern = re.compile(r\"<b>(.*?)</b>\\s*\\n{2,}\", flags=re.IGNORECASE)\n",
    "    matches = list(pattern.finditer(cleaned))\n",
    "\n",
    "    poems = []\n",
    "    if matches:\n",
    "        for i, match in enumerate(matches):\n",
    "            title = match.group(1).strip()\n",
    "            start = match.end()\n",
    "            end = matches[i+1].start() if i + 1 < len(matches) else len(cleaned)\n",
    "            content = cleaned[start:end].strip(\"\\n\")\n",
    "            poems.append({\n",
    "                \"title\": title,\n",
    "                \"content\": content,\n",
    "                \"source\": poem_src,\n",
    "                \"url\": poem_url\n",
    "            })\n",
    "    else:\n",
    "        poems.append({\n",
    "            \"title\": default_title,\n",
    "            \"content\": cleaned,\n",
    "            \"source\": poem_src,\n",
    "            \"url\": poem_url\n",
    "        })\n",
    "    return poems"
   ]
  },
  {
   "cell_type": "code",
   "execution_count": 8,
   "metadata": {},
   "outputs": [],
   "source": [
    "def scrape_poem(driver, poem_url):\n",
    "    driver.get(poem_url)\n",
    "    time.sleep(random.uniform(3, 5))\n",
    "\n",
    "    poem_content_tag = WebDriverWait(driver, 10).until(\n",
    "        EC.visibility_of_element_located((By.CSS_SELECTOR, \"div.poem-content\"))\n",
    "    )\n",
    "\n",
    "    html_content = poem_content_tag.get_attribute(\"innerHTML\")\n",
    "\n",
    "    try:\n",
    "        poem_src_tag = WebDriverWait(driver, 10).until(\n",
    "            EC.presence_of_element_located((By.XPATH, '//div[@class=\"small\"]'))\n",
    "        )\n",
    "        poem_src = poem_src_tag.text\n",
    "    except Exception:\n",
    "        poem_src = \"\"\n",
    "\n",
    "    return process_poem_content(html_content, poem_src, poem_url)\n"
   ]
  },
  {
   "cell_type": "code",
   "execution_count": 12,
   "metadata": {},
   "outputs": [],
   "source": [
    "def scrape_poems(driver, num_pages=10):\n",
    "    datasets = []\n",
    "    for page_idx in tqdm(range(1, num_pages + 1)):\n",
    "        poem_links = extract_poem_links(driver, page_idx)\n",
    "        for poem in poem_links:\n",
    "            poem_url = poem[\"url\"]\n",
    "            try:\n",
    "                poems = scrape_poem(driver, poem_url)\n",
    "                datasets.extend(poems)\n",
    "            except Exception as e:\n",
    "                print(f\"Error processing {poem_url}: {e}\")\n",
    "                continue\n",
    "    return datasets"
   ]
  },
  {
   "cell_type": "code",
   "execution_count": 14,
   "metadata": {},
   "outputs": [
    {
     "name": "stderr",
     "output_type": "stream",
     "text": [
      "100%|██████████| 10/10 [13:21<00:00, 80.18s/it]\n"
     ]
    }
   ],
   "source": [
    "driver = webdriver.Chrome()\n",
    "datasets = scrape_poems(driver, num_pages=10)\n",
    "driver.quit()"
   ]
  },
  {
   "cell_type": "code",
   "execution_count": 15,
   "metadata": {},
   "outputs": [],
   "source": [
    "df = pd.DataFrame(datasets)\n",
    "df.to_csv(\"poem_dataset.csv\", index=True)"
   ]
  }
 ],
 "metadata": {
  "kernelspec": {
   "display_name": "base",
   "language": "python",
   "name": "python3"
  },
  "language_info": {
   "codemirror_mode": {
    "name": "ipython",
    "version": 3
   },
   "file_extension": ".py",
   "mimetype": "text/x-python",
   "name": "python",
   "nbconvert_exporter": "python",
   "pygments_lexer": "ipython3",
   "version": "3.12.9"
  }
 },
 "nbformat": 4,
 "nbformat_minor": 2
}
